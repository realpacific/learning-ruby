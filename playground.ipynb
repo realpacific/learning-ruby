{
 "cells": [
  {
   "attachments": {},
   "cell_type": "markdown",
   "id": "1658d802",
   "metadata": {},
   "source": [
    "### Different ways to print in Ruby\n",
    "* `puts`\n",
    "* `print`\n",
    "* `p`"
   ]
  },
  {
   "attachments": {},
   "cell_type": "markdown",
   "id": "9688b81a",
   "metadata": {},
   "source": [
    "`puts` returns nothing"
   ]
  },
  {
   "cell_type": "code",
   "execution_count": 107,
   "id": "872cc33b",
   "metadata": {},
   "outputs": [
    {
     "name": "stdout",
     "output_type": "stream",
     "text": [
      "hello world\n",
      "hello world\n"
     ]
    }
   ],
   "source": [
    "puts \"hello world\"\n",
    "puts \"hello world\""
   ]
  },
  {
   "attachments": {},
   "cell_type": "markdown",
   "id": "d868ed49",
   "metadata": {},
   "source": [
    "`p` prints ignoring any escape characters"
   ]
  },
  {
   "cell_type": "code",
   "execution_count": 108,
   "id": "150d4027",
   "metadata": {},
   "outputs": [
    {
     "name": "stdout",
     "output_type": "stream",
     "text": [
      "\"hello\\nworld\"\n",
      "\"hello\"\n"
     ]
    },
    {
     "data": {
      "text/plain": [
       "\"hello\""
      ]
     },
     "execution_count": 108,
     "metadata": {},
     "output_type": "execute_result"
    }
   ],
   "source": [
    "p \"hello\\nworld\"\n",
    "p \"hello\""
   ]
  },
  {
   "attachments": {},
   "cell_type": "markdown",
   "id": "3dcf4df1",
   "metadata": {},
   "source": [
    "`print` doesn't end with new line"
   ]
  },
  {
   "cell_type": "code",
   "execution_count": 109,
   "id": "ade56a66",
   "metadata": {},
   "outputs": [
    {
     "name": "stdout",
     "output_type": "stream",
     "text": [
      "helloworld"
     ]
    }
   ],
   "source": [
    "print \"hello\"\n",
    "print \"world\""
   ]
  },
  {
   "attachments": {},
   "cell_type": "markdown",
   "id": "edcbf6c5",
   "metadata": {},
   "source": [
    "### Variables"
   ]
  },
  {
   "cell_type": "code",
   "execution_count": 110,
   "id": "0f168e3c",
   "metadata": {},
   "outputs": [
    {
     "name": "stdout",
     "output_type": "stream",
     "text": [
      "hello world\n"
     ]
    }
   ],
   "source": [
    "greeting = \"hello world\"\n",
    "puts greeting"
   ]
  },
  {
   "attachments": {},
   "cell_type": "markdown",
   "id": "28a931df",
   "metadata": {},
   "source": [
    "#### Function"
   ]
  },
  {
   "cell_type": "code",
   "execution_count": 111,
   "id": "760afd98",
   "metadata": {},
   "outputs": [
    {
     "name": "stdout",
     "output_type": "stream",
     "text": [
      "Hello world\n"
     ]
    }
   ],
   "source": [
    "def say_hello\n",
    "  puts \"Hello world\"\n",
    "end\n",
    "\n",
    "say_hello"
   ]
  },
  {
   "cell_type": "code",
   "execution_count": 112,
   "id": "a55f5369",
   "metadata": {},
   "outputs": [
    {
     "name": "stdout",
     "output_type": "stream",
     "text": [
      "Hello, Prashant!\n"
     ]
    }
   ],
   "source": [
    "def say_hello_to(name)\n",
    "  puts \"Hello, \" + name + \"!\"\n",
    "end\n",
    "\n",
    "say_hello_to('Prashant')"
   ]
  },
  {
   "attachments": {},
   "cell_type": "markdown",
   "id": "26d2660c",
   "metadata": {},
   "source": [
    "### String Interpolation\n",
    "\n",
    "String interpolation is done using `#{variable}` with **double quotes**."
   ]
  },
  {
   "cell_type": "code",
   "execution_count": 113,
   "id": "dd655976",
   "metadata": {},
   "outputs": [
    {
     "name": "stdout",
     "output_type": "stream",
     "text": [
      "Hello, Prashant!\n"
     ]
    }
   ],
   "source": [
    "def say_hello_to(name)\n",
    "  puts \"Hello, #{name}!\"\n",
    "end\n",
    "\n",
    "say_hello_to('Prashant')"
   ]
  },
  {
   "attachments": {},
   "cell_type": "markdown",
   "id": "443c347c",
   "metadata": {},
   "source": [
    "#### Strings\n",
    "\n",
    "Everything is an object in Ruby"
   ]
  },
  {
   "cell_type": "code",
   "execution_count": 114,
   "id": "edd6113d",
   "metadata": {},
   "outputs": [
    {
     "data": {
      "text/plain": [
       "Integer"
      ]
     },
     "execution_count": 114,
     "metadata": {},
     "output_type": "execute_result"
    }
   ],
   "source": [
    "10.class"
   ]
  },
  {
   "cell_type": "code",
   "execution_count": 115,
   "id": "ad77b3cd",
   "metadata": {},
   "outputs": [
    {
     "data": {
      "text/plain": [
       "String"
      ]
     },
     "execution_count": 115,
     "metadata": {},
     "output_type": "execute_result"
    }
   ],
   "source": [
    "greeting.class"
   ]
  },
  {
   "cell_type": "code",
   "execution_count": 116,
   "id": "80ff5687",
   "metadata": {},
   "outputs": [
    {
     "data": {
      "text/plain": [
       "\"10\""
      ]
     },
     "execution_count": 116,
     "metadata": {},
     "output_type": "execute_result"
    }
   ],
   "source": [
    "10.to_s"
   ]
  },
  {
   "cell_type": "code",
   "execution_count": 117,
   "id": "a5111172",
   "metadata": {},
   "outputs": [
    {
     "data": {
      "text/plain": [
       "String"
      ]
     },
     "execution_count": 117,
     "metadata": {},
     "output_type": "execute_result"
    }
   ],
   "source": [
    "10.to_s.class"
   ]
  },
  {
   "cell_type": "code",
   "execution_count": 118,
   "id": "19bd3fe3",
   "metadata": {},
   "outputs": [
    {
     "data": {
      "text/plain": [
       "\"dlrow olleh\""
      ]
     },
     "execution_count": 118,
     "metadata": {},
     "output_type": "execute_result"
    }
   ],
   "source": [
    "greeting.reverse"
   ]
  },
  {
   "cell_type": "code",
   "execution_count": 119,
   "id": "13f006da",
   "metadata": {},
   "outputs": [
    {
     "data": {
      "text/plain": [
       "\"Hello world\""
      ]
     },
     "execution_count": 119,
     "metadata": {},
     "output_type": "execute_result"
    }
   ],
   "source": [
    "greeting.capitalize"
   ]
  },
  {
   "cell_type": "code",
   "execution_count": 120,
   "id": "58e34642",
   "metadata": {},
   "outputs": [
    {
     "data": {
      "text/plain": [
       "false"
      ]
     },
     "execution_count": 120,
     "metadata": {},
     "output_type": "execute_result"
    }
   ],
   "source": [
    "greeting.empty?"
   ]
  },
  {
   "cell_type": "code",
   "execution_count": 121,
   "id": "8bb528bb",
   "metadata": {},
   "outputs": [
    {
     "data": {
      "text/plain": [
       "false"
      ]
     },
     "execution_count": 121,
     "metadata": {},
     "output_type": "execute_result"
    }
   ],
   "source": [
    "greeting.nil?"
   ]
  },
  {
   "cell_type": "code",
   "execution_count": 122,
   "id": "8030fc40",
   "metadata": {},
   "outputs": [
    {
     "data": {
      "text/plain": [
       "\"welcome world\""
      ]
     },
     "execution_count": 122,
     "metadata": {},
     "output_type": "execute_result"
    }
   ],
   "source": [
    "greeting.sub(\"hello\", \"welcome\")"
   ]
  },
  {
   "cell_type": "code",
   "execution_count": 123,
   "id": "de77dfa6",
   "metadata": {},
   "outputs": [
    {
     "data": {
      "text/plain": [
       "[:each_grapheme_cluster, :slice, :slice!, :rpartition, :encoding, :force_encoding, :b, :valid_encoding?, :ascii_only?, :hash, :unicode_normalized?, :encode!, :unicode_normalize, :unicode_normalize!, :pretty_print, :encode, :to_r, :include?, :%, :*, :+, :to_c, :count, :partition, :unpack, :unpack1, :+@, :-@, :<=>, :<<, :==, :===, :sum, :=~, :[], :[]=, :next, :empty?, :eql?, :casecmp, :casecmp?, :insert, :bytesize, :match, :match?, :succ!, :next!, :upto, :index, :byteindex, :rindex, :byterindex, :replace, :clear, :chr, :getbyte, :setbyte, :byteslice, :bytesplice, :scrub, :scrub!, :dedup, :freeze, :undump, :intern, :length, :size, :succ, :downcase, :capitalize, :upcase, :dump, :upcase!, :inspect, :swapcase!, :oct, :downcase!, :capitalize!, :swapcase, :to_str, :codepoints, :split, :lines, :hex, :chars, :to_s, :to_i, :to_f, :reverse!, :concat, :grapheme_clusters, :reverse, :bytes, :start_with?, :prepend, :crypt, :ljust, :gsub, :end_with?, :scan, :strip, :to_sym, :center, :sub, :lstrip, :chop, :rjust, :ord, :sub!, :rstrip, :delete_prefix, :chomp, :strip!, :gsub!, :chop!, :chomp!, :delete_suffix, :lstrip!, :rstrip!, :delete_prefix!, :delete_suffix!, :tr, :tr_s, :delete, :squeeze, :tr!, :tr_s!, :delete!, :squeeze!, :each_line, :each_byte, :each_char, :each_codepoint, :to_json, :to_json_raw, :to_json_raw_object, :clamp, :between?, :<=, :>=, :<, :>, :pretty_print_inspect, :pretty_print_instance_variables, :pretty_print_cycle, :singleton_class, :dup, :itself, :methods, :singleton_methods, :protected_methods, :private_methods, :public_methods, :instance_variables, :instance_variable_get, :instance_variable_set, :instance_variable_defined?, :remove_instance_variable, :instance_of?, :kind_of?, :is_a?, :display, :public_send, :extend, :class, :frozen?, :clone, :then, :tap, :yield_self, :!~, :nil?, :respond_to?, :method, :public_method, :singleton_method, :define_singleton_method, :pretty_inspect, :object_id, :send, :to_enum, :enum_for, :!, :equal?, :__send__, :!=, :instance_eval, :instance_exec, :__id__]"
      ]
     },
     "execution_count": 123,
     "metadata": {},
     "output_type": "execute_result"
    }
   ],
   "source": [
    "greeting.methods"
   ]
  },
  {
   "attachments": {},
   "cell_type": "markdown",
   "id": "f29d5ebc",
   "metadata": {},
   "source": [
    "### Numbers"
   ]
  },
  {
   "cell_type": "code",
   "execution_count": 124,
   "id": "c60104ae",
   "metadata": {},
   "outputs": [
    {
     "name": "stdout",
     "output_type": "stream",
     "text": [
      "3\n"
     ]
    }
   ],
   "source": [
    "puts 1 + 2 * 3 - 4"
   ]
  },
  {
   "cell_type": "code",
   "execution_count": 125,
   "id": "93587c84",
   "metadata": {},
   "outputs": [
    {
     "data": {
      "text/plain": [
       "4.0"
      ]
     },
     "execution_count": 125,
     "metadata": {},
     "output_type": "execute_result"
    }
   ],
   "source": [
    "4.to_f"
   ]
  },
  {
   "cell_type": "code",
   "execution_count": 126,
   "id": "e2b0d82f",
   "metadata": {},
   "outputs": [
    {
     "data": {
      "text/plain": [
       "\"55\""
      ]
     },
     "execution_count": 126,
     "metadata": {},
     "output_type": "execute_result"
    }
   ],
   "source": [
    "\"5\" * 2 # repeats"
   ]
  },
  {
   "cell_type": "code",
   "execution_count": 127,
   "id": "6d2dfcb4",
   "metadata": {},
   "outputs": [
    {
     "name": "stdout",
     "output_type": "stream",
     "text": [
      "--------------------"
     ]
    },
    {
     "data": {
      "text/plain": [
       "20"
      ]
     },
     "execution_count": 127,
     "metadata": {},
     "output_type": "execute_result"
    }
   ],
   "source": [
    "20.times { print '-' }"
   ]
  },
  {
   "cell_type": "code",
   "execution_count": 128,
   "id": "8d2c530b",
   "metadata": {},
   "outputs": [
    {
     "name": "stdout",
     "output_type": "stream",
     "text": [
      "6 9 4 4 7 6 1 9 5 4 7 3 6 6 3 5 5 2 3 7 "
     ]
    },
    {
     "data": {
      "text/plain": [
       "20"
      ]
     },
     "execution_count": 128,
     "metadata": {},
     "output_type": "execute_result"
    }
   ],
   "source": [
    "20.times { print rand(10).to_s + ' ' }"
   ]
  },
  {
   "cell_type": "code",
   "execution_count": 129,
   "id": "06b2b38f",
   "metadata": {},
   "outputs": [
    {
     "data": {
      "text/plain": [
       "0"
      ]
     },
     "execution_count": 129,
     "metadata": {},
     "output_type": "execute_result"
    }
   ],
   "source": [
    "\"hello\".to_i # returns 0 if it can't be converted to int"
   ]
  },
  {
   "attachments": {},
   "cell_type": "markdown",
   "id": "434202f5",
   "metadata": {},
   "source": [
    "### Methods"
   ]
  },
  {
   "cell_type": "code",
   "execution_count": 130,
   "id": "2eeab6b6",
   "metadata": {},
   "outputs": [
    {
     "data": {
      "text/plain": [
       "20"
      ]
     },
     "execution_count": 130,
     "metadata": {},
     "output_type": "execute_result"
    }
   ],
   "source": [
    "def multiply(a, b)\n",
    "  return a * b\n",
    "end\n",
    "\n",
    "multiply(10, 2)"
   ]
  },
  {
   "cell_type": "code",
   "execution_count": 131,
   "id": "ec55370d",
   "metadata": {},
   "outputs": [
    {
     "name": "stdout",
     "output_type": "stream",
     "text": [
      "10 - 10\n"
     ]
    },
    {
     "data": {
      "text/plain": [
       "0"
      ]
     },
     "execution_count": 131,
     "metadata": {},
     "output_type": "execute_result"
    }
   ],
   "source": [
    "def calc(a, b, op)\n",
    "  puts \"#{a} #{op} #{b}\"\n",
    "  if op == '-'\n",
    "    return a - b\n",
    "  elsif op == '*'\n",
    "    return a * b\n",
    "  elsif op == '+'\n",
    "    return a + b\n",
    "  else\n",
    "    return a / b\n",
    "  end\n",
    "end\n",
    "\n",
    "calc(10, 10, '-')"
   ]
  },
  {
   "attachments": {},
   "cell_type": "markdown",
   "id": "7948e494",
   "metadata": {},
   "source": [
    "### Arrays & Range"
   ]
  },
  {
   "cell_type": "code",
   "execution_count": 132,
   "id": "f6d1a01b",
   "metadata": {},
   "outputs": [
    {
     "data": {
      "text/plain": [
       "[1, 2, 3, 4, 5, 6, 7]"
      ]
     },
     "execution_count": 132,
     "metadata": {},
     "output_type": "execute_result"
    }
   ],
   "source": [
    "array = [1, 2, 3, 4, 5, 6, 7]"
   ]
  },
  {
   "cell_type": "code",
   "execution_count": 133,
   "id": "204f6d40",
   "metadata": {},
   "outputs": [
    {
     "data": {
      "text/plain": [
       "Array"
      ]
     },
     "execution_count": 133,
     "metadata": {},
     "output_type": "execute_result"
    }
   ],
   "source": [
    "array.class"
   ]
  },
  {
   "cell_type": "code",
   "execution_count": 134,
   "id": "5d67cf5c",
   "metadata": {},
   "outputs": [
    {
     "data": {
      "text/plain": [
       "1..100"
      ]
     },
     "execution_count": 134,
     "metadata": {},
     "output_type": "execute_result"
    }
   ],
   "source": [
    "range = 1..100"
   ]
  },
  {
   "cell_type": "code",
   "execution_count": 135,
   "id": "8c69c1d9",
   "metadata": {},
   "outputs": [
    {
     "data": {
      "text/plain": [
       "100"
      ]
     },
     "execution_count": 135,
     "metadata": {},
     "output_type": "execute_result"
    }
   ],
   "source": [
    "range.count"
   ]
  },
  {
   "cell_type": "code",
   "execution_count": 136,
   "id": "1635c6fd",
   "metadata": {},
   "outputs": [
    {
     "data": {
      "text/plain": [
       "100"
      ]
     },
     "execution_count": 136,
     "metadata": {},
     "output_type": "execute_result"
    }
   ],
   "source": [
    "range.last"
   ]
  },
  {
   "cell_type": "code",
   "execution_count": 137,
   "id": "d0fb5f68",
   "metadata": {},
   "outputs": [
    {
     "data": {
      "text/plain": [
       "[28, 77, 90, 96, 22, 97, 94, 18, 32, 58, 63, 35, 2, 92, 36, 44, 46, 64, 16, 91, 82, 41, 98, 68, 5, 74, 83, 51, 73, 85, 7, 71, 81, 9, 88, 21, 31, 79, 93, 69, 75, 84, 62, 10, 52, 61, 15, 12, 54, 59, 42, 3, 47, 20, 100, 25, 1, 49, 6, 67, 53, 65, 29, 30, 57, 26, 4, 24, 17, 37, 45, 34, 66, 39, 72, 19, 56, 55, 50, 8, 99, 76, 78, 70, 89, 48, 33, 87, 95, 40, 14, 23, 38, 86, 60, 80, 27, 13, 11, 43]"
      ]
     },
     "execution_count": 137,
     "metadata": {},
     "output_type": "execute_result"
    }
   ],
   "source": [
    "range.to_a.shuffle"
   ]
  },
  {
   "attachments": {},
   "cell_type": "markdown",
   "id": "f409ed32",
   "metadata": {},
   "source": [
    "To mutate the caller, use `!` (bang)"
   ]
  },
  {
   "cell_type": "code",
   "execution_count": 138,
   "id": "93676893",
   "metadata": {
    "scrolled": true
   },
   "outputs": [
    {
     "name": "stdout",
     "output_type": "stream",
     "text": [
      "[1, 2, 3, 4, 5, 6, 7]\n",
      "array after shuffle: [1, 2, 3, 4, 5, 6, 7]\n",
      "array after shuffle!: [6, 2, 3, 7, 1, 4, 5]\n"
     ]
    }
   ],
   "source": [
    "puts array.to_s\n",
    "\n",
    "array.shuffle.to_s\n",
    "\n",
    "print \"array after shuffle: \"\n",
    "puts array.to_s\n",
    "\n",
    "array.shuffle!.to_s\n",
    "\n",
    "print \"array after shuffle!: \"\n",
    "puts array.to_s"
   ]
  },
  {
   "cell_type": "code",
   "execution_count": 139,
   "id": "cc9f78cb",
   "metadata": {},
   "outputs": [
    {
     "data": {
      "text/plain": [
       "[6, 2, 3, 7, 1, 4, 5]"
      ]
     },
     "execution_count": 139,
     "metadata": {},
     "output_type": "execute_result"
    }
   ],
   "source": [
    "array"
   ]
  },
  {
   "cell_type": "code",
   "execution_count": 140,
   "id": "ce741fd7",
   "metadata": {},
   "outputs": [
    {
     "data": {
      "text/plain": [
       "[\"a\", \"b\", \"c\", \"d\", \"e\", \"f\", \"g\", \"h\", \"i\", \"j\", \"k\", \"l\", \"m\", \"n\", \"o\", \"p\", \"q\", \"r\", \"s\", \"t\", \"u\", \"v\", \"w\", \"x\", \"y\", \"z\"]"
      ]
     },
     "execution_count": 140,
     "metadata": {},
     "output_type": "execute_result"
    }
   ],
   "source": [
    "str_array = (\"a\"..\"z\").to_a"
   ]
  },
  {
   "cell_type": "code",
   "execution_count": 141,
   "id": "d5e01dde",
   "metadata": {},
   "outputs": [
    {
     "data": {
      "text/plain": [
       "26"
      ]
     },
     "execution_count": 141,
     "metadata": {},
     "output_type": "execute_result"
    }
   ],
   "source": [
    "str_array.length"
   ]
  },
  {
   "cell_type": "code",
   "execution_count": 142,
   "id": "e196d984",
   "metadata": {},
   "outputs": [
    {
     "data": {
      "text/plain": [
       "[\"a\", \"a\", \"b\", \"c\", \"d\", \"e\", \"f\", \"g\", \"h\", \"i\", \"j\", \"k\", \"l\", \"m\", \"n\", \"o\", \"p\", \"q\", \"r\", \"s\", \"t\", \"u\", \"v\", \"w\", \"x\", \"y\", \"z\"]"
      ]
     },
     "execution_count": 142,
     "metadata": {},
     "output_type": "execute_result"
    }
   ],
   "source": [
    "str_array.unshift(\"a\")"
   ]
  },
  {
   "cell_type": "code",
   "execution_count": 143,
   "id": "a61617be",
   "metadata": {},
   "outputs": [
    {
     "data": {
      "text/plain": [
       "[\"a\", \"b\", \"c\", \"d\", \"e\", \"f\", \"g\", \"h\", \"i\", \"j\", \"k\", \"l\", \"m\", \"n\", \"o\", \"p\", \"q\", \"r\", \"s\", \"t\", \"u\", \"v\", \"w\", \"x\", \"y\", \"z\"]"
      ]
     },
     "execution_count": 143,
     "metadata": {},
     "output_type": "execute_result"
    }
   ],
   "source": [
    "str_array.uniq #unique"
   ]
  },
  {
   "cell_type": "code",
   "execution_count": 144,
   "id": "613bc4ea",
   "metadata": {},
   "outputs": [
    {
     "data": {
      "text/plain": [
       "false"
      ]
     },
     "execution_count": 144,
     "metadata": {},
     "output_type": "execute_result"
    }
   ],
   "source": [
    "str_array.empty?"
   ]
  },
  {
   "cell_type": "code",
   "execution_count": 145,
   "id": "2d2df27f",
   "metadata": {},
   "outputs": [
    {
     "data": {
      "text/plain": [
       "true"
      ]
     },
     "execution_count": 145,
     "metadata": {},
     "output_type": "execute_result"
    }
   ],
   "source": [
    "str_array.include?('z')"
   ]
  },
  {
   "cell_type": "code",
   "execution_count": 146,
   "id": "9eac7166",
   "metadata": {},
   "outputs": [
    {
     "data": {
      "text/plain": [
       "[\"a\", \"a\", \"b\", \"c\", \"d\", \"e\", \"f\", \"g\", \"h\", \"i\", \"j\", \"k\", \"l\", \"m\", \"n\", \"o\", \"p\", \"q\", \"r\", \"s\", \"t\", \"u\", \"v\", \"w\", \"x\", \"y\", \"z\", \"Z\"]"
      ]
     },
     "execution_count": 146,
     "metadata": {},
     "output_type": "execute_result"
    }
   ],
   "source": [
    "str_array.push('Z')"
   ]
  },
  {
   "cell_type": "code",
   "execution_count": 147,
   "id": "2f84b0fa",
   "metadata": {},
   "outputs": [
    {
     "data": {
      "text/plain": [
       "\"Z\""
      ]
     },
     "execution_count": 147,
     "metadata": {},
     "output_type": "execute_result"
    }
   ],
   "source": [
    "str_array.pop"
   ]
  },
  {
   "cell_type": "code",
   "execution_count": 148,
   "id": "57aee789",
   "metadata": {},
   "outputs": [
    {
     "data": {
      "text/plain": [
       "[\"a\", \"a\", \"b\", \"c\", \"d\", \"e\", \"f\", \"g\", \"h\", \"i\", \"j\", \"k\", \"l\", \"m\", \"n\", \"o\", \"p\", \"q\", \"r\", \"s\", \"t\", \"u\", \"v\", \"w\", \"x\", \"y\", \"z\"]"
      ]
     },
     "execution_count": 148,
     "metadata": {},
     "output_type": "execute_result"
    }
   ],
   "source": [
    "str_array"
   ]
  },
  {
   "cell_type": "code",
   "execution_count": 149,
   "id": "f86f0bf9",
   "metadata": {},
   "outputs": [
    {
     "data": {
      "text/plain": [
       "\"aabcdefghijklmnopqrstuvwxyz\""
      ]
     },
     "execution_count": 149,
     "metadata": {},
     "output_type": "execute_result"
    }
   ],
   "source": [
    "str_array.join"
   ]
  },
  {
   "cell_type": "code",
   "execution_count": 150,
   "id": "644f9d36",
   "metadata": {},
   "outputs": [
    {
     "data": {
      "text/plain": [
       "\"a-a-b-c-d-e-f-g-h-i-j-k-l-m-n-o-p-q-r-s-t-u-v-w-x-y-z\""
      ]
     },
     "execution_count": 150,
     "metadata": {},
     "output_type": "execute_result"
    }
   ],
   "source": [
    "str_array.join(\"-\")"
   ]
  },
  {
   "cell_type": "code",
   "execution_count": 151,
   "id": "d913cd4f",
   "metadata": {},
   "outputs": [
    {
     "name": "stdout",
     "output_type": "stream",
     "text": [
      "A\n",
      "A\n",
      "B\n",
      "C\n",
      "D\n",
      "E\n",
      "F\n",
      "G\n",
      "H\n",
      "I\n",
      "J\n",
      "K\n",
      "L\n",
      "M\n",
      "N\n",
      "O\n",
      "P\n",
      "Q\n",
      "R\n",
      "S\n",
      "T\n",
      "U\n",
      "V\n",
      "W\n",
      "X\n",
      "Y\n",
      "Z\n"
     ]
    },
    {
     "data": {
      "text/plain": [
       "[\"a\", \"a\", \"b\", \"c\", \"d\", \"e\", \"f\", \"g\", \"h\", \"i\", \"j\", \"k\", \"l\", \"m\", \"n\", \"o\", \"p\", \"q\", \"r\", \"s\", \"t\", \"u\", \"v\", \"w\", \"x\", \"y\", \"z\"]"
      ]
     },
     "execution_count": 151,
     "metadata": {},
     "output_type": "execute_result"
    }
   ],
   "source": [
    "for i in str_array\n",
    "  puts i.capitalize\n",
    "end"
   ]
  },
  {
   "cell_type": "code",
   "execution_count": 152,
   "id": "db56d437",
   "metadata": {},
   "outputs": [
    {
     "name": "stdout",
     "output_type": "stream",
     "text": [
      "AABCDEFGHIJKLMNOPQRSTUVWXYZ"
     ]
    },
    {
     "data": {
      "text/plain": [
       "[\"a\", \"a\", \"b\", \"c\", \"d\", \"e\", \"f\", \"g\", \"h\", \"i\", \"j\", \"k\", \"l\", \"m\", \"n\", \"o\", \"p\", \"q\", \"r\", \"s\", \"t\", \"u\", \"v\", \"w\", \"x\", \"y\", \"z\"]"
      ]
     },
     "execution_count": 152,
     "metadata": {},
     "output_type": "execute_result"
    }
   ],
   "source": [
    "str_array.each do |i| print i.capitalize end"
   ]
  },
  {
   "cell_type": "code",
   "execution_count": 153,
   "id": "fbae3f6d",
   "metadata": {},
   "outputs": [
    {
     "name": "stdout",
     "output_type": "stream",
     "text": [
      "AABCDEFGHIJKLMNOPQRSTUVWXYZ"
     ]
    },
    {
     "data": {
      "text/plain": [
       "[\"a\", \"a\", \"b\", \"c\", \"d\", \"e\", \"f\", \"g\", \"h\", \"i\", \"j\", \"k\", \"l\", \"m\", \"n\", \"o\", \"p\", \"q\", \"r\", \"s\", \"t\", \"u\", \"v\", \"w\", \"x\", \"y\", \"z\"]"
      ]
     },
     "execution_count": 153,
     "metadata": {},
     "output_type": "execute_result"
    }
   ],
   "source": [
    "str_array.each { |i| print i.capitalize }"
   ]
  },
  {
   "cell_type": "code",
   "execution_count": 154,
   "id": "9758808f",
   "metadata": {},
   "outputs": [
    {
     "data": {
      "text/plain": [
       "[\"b\", \"c\", \"d\", \"f\", \"g\", \"h\", \"j\", \"k\", \"l\", \"m\", \"n\", \"p\", \"q\", \"r\", \"s\", \"t\", \"v\", \"w\", \"x\", \"y\", \"z\"]"
      ]
     },
     "execution_count": 154,
     "metadata": {},
     "output_type": "execute_result"
    }
   ],
   "source": [
    "def is_vowel(str)\n",
    "  ['a', 'e', 'i', 'o', 'u'].include?(str)\n",
    "end\n",
    "\n",
    "\n",
    "str_array.select { |i| !is_vowel(i) }"
   ]
  },
  {
   "attachments": {},
   "cell_type": "markdown",
   "id": "04182d35",
   "metadata": {},
   "source": [
    "### Hashes"
   ]
  },
  {
   "cell_type": "code",
   "execution_count": 155,
   "id": "55607cb3",
   "metadata": {},
   "outputs": [
    {
     "data": {
      "text/plain": [
       "{\"name\"=>\"Prashant\", \"address\"=>{\"country\"=>\"Nepal\", \"continent\"=>\"Asia\"}}"
      ]
     },
     "execution_count": 155,
     "metadata": {},
     "output_type": "execute_result"
    }
   ],
   "source": [
    "hash = { \n",
    "  'name' => 'Prashant', \n",
    "  'address' => {  \n",
    "    'country' => 'Nepal',\n",
    "    \"continent\" => \"Asia\"\n",
    "  } \n",
    "}"
   ]
  },
  {
   "cell_type": "code",
   "execution_count": 156,
   "id": "0fb3c8e0",
   "metadata": {},
   "outputs": [
    {
     "data": {
      "text/plain": [
       "\"Prashant\""
      ]
     },
     "execution_count": 156,
     "metadata": {},
     "output_type": "execute_result"
    }
   ],
   "source": [
    "hash['name']"
   ]
  },
  {
   "cell_type": "code",
   "execution_count": 157,
   "id": "006f261a",
   "metadata": {},
   "outputs": [
    {
     "data": {
      "text/plain": [
       "\"Nepal\""
      ]
     },
     "execution_count": 157,
     "metadata": {},
     "output_type": "execute_result"
    }
   ],
   "source": [
    "hash['address']['country']"
   ]
  },
  {
   "attachments": {},
   "cell_type": "markdown",
   "id": "0c779441",
   "metadata": {},
   "source": [
    "Ruby converts the keys into symbols"
   ]
  },
  {
   "cell_type": "code",
   "execution_count": 158,
   "id": "60954620",
   "metadata": {},
   "outputs": [
    {
     "data": {
      "text/plain": [
       "{:name=>\"Prashant\", :address=>{:country=>\"Nepal\", :continent=>\"Asia\"}}"
      ]
     },
     "execution_count": 158,
     "metadata": {},
     "output_type": "execute_result"
    }
   ],
   "source": [
    "hash = { \n",
    "  name: 'Prashant', \n",
    "  address: {  \n",
    "    country: 'Nepal',\n",
    "    continent: \"Asia\"\n",
    "  } \n",
    "}"
   ]
  },
  {
   "cell_type": "code",
   "execution_count": 159,
   "id": "f33ec64a",
   "metadata": {},
   "outputs": [
    {
     "name": "stdout",
     "output_type": "stream",
     "text": [
      "Prashant from Nepal\n"
     ]
    }
   ],
   "source": [
    "puts hash[:name].to_s + \" from \" +  hash[:address][:country]"
   ]
  },
  {
   "cell_type": "code",
   "execution_count": 160,
   "id": "2a564972",
   "metadata": {},
   "outputs": [
    {
     "data": {
      "text/plain": [
       "[:name, :address]"
      ]
     },
     "execution_count": 160,
     "metadata": {},
     "output_type": "execute_result"
    }
   ],
   "source": [
    "hash.keys"
   ]
  },
  {
   "cell_type": "code",
   "execution_count": 161,
   "id": "364ff30d",
   "metadata": {},
   "outputs": [
    {
     "data": {
      "text/plain": [
       "[\"Prashant\", {:country=>\"Nepal\", :continent=>\"Asia\"}]"
      ]
     },
     "execution_count": 161,
     "metadata": {},
     "output_type": "execute_result"
    }
   ],
   "source": [
    "hash.values"
   ]
  },
  {
   "cell_type": "code",
   "execution_count": 162,
   "id": "e7b3695e",
   "metadata": {},
   "outputs": [
    {
     "data": {
      "text/plain": [
       "true"
      ]
     },
     "execution_count": 162,
     "metadata": {},
     "output_type": "execute_result"
    }
   ],
   "source": [
    "hash[:address].is_a?(Hash)"
   ]
  },
  {
   "cell_type": "code",
   "execution_count": 163,
   "id": "0b1e9544",
   "metadata": {},
   "outputs": [
    {
     "name": "stdout",
     "output_type": "stream",
     "text": [
      "name: Prashant\n",
      "country: Nepal\n",
      "continent: Asia\n"
     ]
    },
    {
     "data": {
      "text/plain": [
       "{:name=>\"Prashant\", :address=>{:country=>\"Nepal\", :continent=>\"Asia\"}}"
      ]
     },
     "execution_count": 163,
     "metadata": {},
     "output_type": "execute_result"
    }
   ],
   "source": [
    "def iterate_hash(hash)\n",
    "  hash.each { |k,v|\n",
    "    if v.is_a?(Hash)\n",
    "      iterate_hash(v)\n",
    "    else\n",
    "      puts \"#{k}: #{v}\"\n",
    "    end\n",
    "  }\n",
    "end\n",
    "\n",
    "iterate_hash(hash)"
   ]
  },
  {
   "cell_type": "code",
   "execution_count": 164,
   "id": "227787b0",
   "metadata": {},
   "outputs": [
    {
     "data": {
      "text/plain": [
       "{:country=>\"Nepal\", :continent=>\"Asia\"}"
      ]
     },
     "execution_count": 164,
     "metadata": {},
     "output_type": "execute_result"
    }
   ],
   "source": [
    "hash.delete(:address)"
   ]
  },
  {
   "cell_type": "code",
   "execution_count": 165,
   "id": "34630d2c",
   "metadata": {},
   "outputs": [
    {
     "name": "stdout",
     "output_type": "stream",
     "text": [
      "name: Prashant\n"
     ]
    },
    {
     "data": {
      "text/plain": [
       "{:name=>\"Prashant\"}"
      ]
     },
     "execution_count": 165,
     "metadata": {},
     "output_type": "execute_result"
    }
   ],
   "source": [
    "iterate_hash(hash)"
   ]
  },
  {
   "cell_type": "code",
   "execution_count": null,
   "id": "d3a4d75d",
   "metadata": {},
   "outputs": [],
   "source": []
  }
 ],
 "metadata": {
  "kernelspec": {
   "display_name": "Ruby 3.2.2",
   "language": "ruby",
   "name": "ruby"
  },
  "language_info": {
   "file_extension": ".rb",
   "mimetype": "application/x-ruby",
   "name": "ruby",
   "version": "3.2.2"
  }
 },
 "nbformat": 4,
 "nbformat_minor": 5
}
