{
 "cells": [
  {
   "cell_type": "code",
   "execution_count": 1,
   "metadata": {},
   "outputs": [
    {
     "data": {
      "text/plain": [
       ":default"
      ]
     },
     "execution_count": 1,
     "metadata": {},
     "output_type": "execute_result"
    }
   ],
   "source": [
    "class Greeter\n",
    "  attr_accessor :names, :greetingMessage\n",
    "\n",
    "  @names\n",
    "  @greetingMessage\n",
    "\n",
    "  def initialize(names= nil, greeting= \"Hi\")\n",
    "    @names = names\n",
    "    @greetingMessage = greeting\n",
    "  end\n",
    "\n",
    "  def say_hi\n",
    "    if @names.nil?\n",
    "      Greeter.say_hi(@greetingMessage, '...')\n",
    "    elsif @names.is_a?(Array)\n",
    "      @names.each { |name| Greeter.say_hi(@greetingMessage, name) }\n",
    "    else\n",
    "      Greeter.say_hi(@greetingMessage, @names)\n",
    "    end\n",
    "    \n",
    "  end\n",
    "\n",
    "  def self.say_hi(greetingMessage, name)\n",
    "    puts \"#{greetingMessage} #{name}!\"\n",
    "  end\n",
    "\n",
    "  def Greeter.default\n",
    "    Greeter.new(\"test user\")\n",
    "  end\n",
    "\n",
    "end"
   ]
  },
  {
   "cell_type": "code",
   "execution_count": 2,
   "metadata": {},
   "outputs": [
    {
     "name": "stdout",
     "output_type": "stream",
     "text": [
      "Hi Prashant!\n",
      "Hello Prashant!\n"
     ]
    }
   ],
   "source": [
    "\n",
    "greeter = Greeter.new(\"Prashant\")\n",
    "greeter.say_hi\n",
    "greeter.greetingMessage = \"Hello\"\n",
    "greeter.say_hi"
   ]
  },
  {
   "cell_type": "code",
   "execution_count": 3,
   "metadata": {},
   "outputs": [
    {
     "name": "stdout",
     "output_type": "stream",
     "text": [
      "Hi test user!\n",
      "Ola test user!\n"
     ]
    }
   ],
   "source": [
    "defaultGreeter = Greeter.default\n",
    "defaultGreeter.say_hi\n",
    "defaultGreeter.greetingMessage = \"Ola\"\n",
    "defaultGreeter.say_hi"
   ]
  },
  {
   "cell_type": "code",
   "execution_count": 4,
   "metadata": {},
   "outputs": [
    {
     "name": "stdout",
     "output_type": "stream",
     "text": [
      "Hi ...!\n",
      "Hi Pb!\n",
      "Hello prashant!\n",
      "Hello world!\n",
      "Hello pb!\n"
     ]
    },
    {
     "data": {
      "text/plain": [
       "[\"prashant\", \"world\", \"pb\"]"
      ]
     },
     "execution_count": 4,
     "metadata": {},
     "output_type": "execute_result"
    }
   ],
   "source": [
    "greeter = Greeter.new()\n",
    "greeter.say_hi\n",
    "\n",
    "greeter.names = \"Pb\"\n",
    "greeter.say_hi\n",
    "\n",
    "greeter.greetingMessage = 'Hello'\n",
    "greeter.names = [\"prashant\", \"world\", \"pb\"]\n",
    "greeter.say_hi\n"
   ]
  },
  {
   "cell_type": "code",
   "execution_count": 5,
   "metadata": {},
   "outputs": [
    {
     "name": "stdout",
     "output_type": "stream",
     "text": [
      "names\n",
      "names=\n",
      "greetingMessage=\n",
      "say_hi\n",
      "greetingMessage\n",
      "pretty_print_instance_variables\n",
      "pretty_print\n",
      "pretty_print_cycle\n",
      "pretty_print_inspect\n",
      "to_json\n",
      "hash\n",
      "singleton_class\n",
      "dup\n",
      "itself\n",
      "methods\n",
      "singleton_methods\n",
      "protected_methods\n",
      "private_methods\n",
      "public_methods\n",
      "instance_variables\n",
      "instance_variable_get\n",
      "instance_variable_set\n",
      "instance_variable_defined?\n",
      "remove_instance_variable\n",
      "instance_of?\n",
      "kind_of?\n",
      "is_a?\n",
      "display\n",
      "public_send\n",
      "extend\n",
      "class\n",
      "frozen?\n",
      "clone\n",
      "then\n",
      "tap\n",
      "yield_self\n",
      "<=>\n",
      "===\n",
      "!~\n",
      "nil?\n",
      "eql?\n",
      "respond_to?\n",
      "method\n",
      "public_method\n",
      "singleton_method\n",
      "define_singleton_method\n",
      "pretty_inspect\n",
      "freeze\n",
      "inspect\n",
      "object_id\n",
      "send\n",
      "to_s\n",
      "to_enum\n",
      "enum_for\n",
      "!\n",
      "equal?\n",
      "__send__\n",
      "==\n",
      "!=\n",
      "instance_eval\n",
      "instance_exec\n",
      "__id__\n"
     ]
    }
   ],
   "source": [
    "\n",
    "puts Greeter.instance_methods"
   ]
  },
  {
   "cell_type": "code",
   "execution_count": 6,
   "metadata": {},
   "outputs": [
    {
     "name": "stdout",
     "output_type": "stream",
     "text": [
      "#<#<Class:0x0000000106a6bd80>::Greeter:0x0000000106d64a28>\n"
     ]
    }
   ],
   "source": [
    "puts defaultGreeter.to_s"
   ]
  },
  {
   "cell_type": "code",
   "execution_count": null,
   "metadata": {},
   "outputs": [],
   "source": []
  }
 ],
 "metadata": {
  "kernelspec": {
   "display_name": "Ruby 3.2.2",
   "language": "ruby",
   "name": "ruby"
  },
  "language_info": {
   "file_extension": ".rb",
   "mimetype": "application/x-ruby",
   "name": "ruby",
   "version": "3.2.2"
  },
  "orig_nbformat": 4
 },
 "nbformat": 4,
 "nbformat_minor": 2
}