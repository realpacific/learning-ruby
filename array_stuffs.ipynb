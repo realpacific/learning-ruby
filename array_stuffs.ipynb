{
 "cells": [
  {
   "cell_type": "code",
   "execution_count": 26,
   "metadata": {},
   "outputs": [
    {
     "data": {
      "text/plain": [
       "[\"a\", \"b\", \"c\", \"d\", \"e\", \"f\", \"g\", \"h\", \"i\", \"j\", \"k\", \"l\", \"m\", \"n\", \"o\", \"p\", \"q\", \"r\", \"s\", \"t\", \"u\", \"v\", \"w\", \"x\", \"y\", \"z\"]"
      ]
     },
     "execution_count": 26,
     "metadata": {},
     "output_type": "execute_result"
    }
   ],
   "source": [
    "str_array = ('a'..'z').to_a"
   ]
  },
  {
   "cell_type": "code",
   "execution_count": 27,
   "metadata": {},
   "outputs": [
    {
     "name": "stdout",
     "output_type": "stream",
     "text": [
      "hash\n",
      "to_h\n",
      "include?\n",
      "&\n",
      "*\n",
      "+\n",
      "-\n",
      "at\n",
      "fetch\n",
      "last\n",
      "union\n",
      "difference\n",
      "intersection\n",
      "intersect?\n",
      "push\n",
      "append\n",
      "pop\n",
      "shift\n",
      "unshift\n",
      "each_index\n",
      "join\n",
      "rotate\n",
      "rotate!\n",
      "sort!\n",
      "sort_by!\n",
      "collect!\n",
      "map!\n",
      "select!\n",
      "filter!\n",
      "keep_if\n",
      "sort\n",
      "delete_at\n",
      "delete_if\n",
      "values_at\n",
      "reject!\n",
      "fill\n",
      "find_index\n",
      "assoc\n",
      "select\n",
      "filter\n",
      "flatten\n",
      "flatten!\n",
      "reject\n",
      "collect\n",
      "map\n",
      "compact!\n",
      "combination\n",
      "rassoc\n",
      "uniq!\n",
      "transpose\n",
      "repeated_permutation\n",
      "first\n",
      "permutation\n",
      "bsearch\n",
      "bsearch_index\n",
      "count\n",
      "minmax\n",
      "one?\n",
      "all?\n",
      "any?\n",
      "repeated_combination\n",
      "|\n",
      "reverse_each\n",
      "shuffle!\n",
      "deconstruct\n",
      "none?\n",
      "zip\n",
      "take\n",
      "take_while\n",
      "drop\n",
      "drop_while\n",
      "<=>\n",
      "<<\n",
      "product\n",
      "cycle\n",
      "==\n",
      "sum\n",
      "uniq\n",
      "compact\n",
      "[]\n",
      "[]=\n",
      "shuffle\n",
      "sample\n",
      "pack\n",
      "empty?\n",
      "eql?\n",
      "insert\n",
      "index\n",
      "rindex\n",
      "min\n",
      "replace\n",
      "inspect\n",
      "clear\n",
      "pretty_print_cycle\n",
      "max\n",
      "length\n",
      "size\n",
      "each\n",
      "pretty_print\n",
      "to_ary\n",
      "reverse\n",
      "reverse!\n",
      "concat\n",
      "to_a\n",
      "to_s\n",
      "prepend\n",
      "delete\n",
      "slice\n",
      "slice!\n",
      "dig\n",
      "to_json\n",
      "each_cons\n",
      "each_with_object\n",
      "chunk\n",
      "slice_before\n",
      "slice_after\n",
      "slice_when\n",
      "chunk_while\n",
      "chain\n",
      "lazy\n",
      "to_set\n",
      "find\n",
      "entries\n",
      "sort_by\n",
      "grep\n",
      "grep_v\n",
      "detect\n",
      "find_all\n",
      "filter_map\n",
      "flat_map\n",
      "collect_concat\n",
      "inject\n",
      "reduce\n",
      "partition\n",
      "group_by\n",
      "tally\n",
      "min_by\n",
      "max_by\n",
      "minmax_by\n",
      "member?\n",
      "each_with_index\n",
      "each_entry\n",
      "each_slice\n",
      "pretty_print_instance_variables\n",
      "pretty_print_inspect\n",
      "singleton_class\n",
      "dup\n",
      "itself\n",
      "methods\n",
      "singleton_methods\n",
      "protected_methods\n",
      "private_methods\n",
      "public_methods\n",
      "instance_variables\n",
      "instance_variable_get\n",
      "instance_variable_set\n",
      "instance_variable_defined?\n",
      "remove_instance_variable\n",
      "instance_of?\n",
      "kind_of?\n",
      "is_a?\n",
      "display\n",
      "public_send\n",
      "extend\n",
      "class\n",
      "frozen?\n",
      "clone\n",
      "then\n",
      "tap\n",
      "yield_self\n",
      "===\n",
      "!~\n",
      "nil?\n",
      "respond_to?\n",
      "method\n",
      "public_method\n",
      "singleton_method\n",
      "define_singleton_method\n",
      "pretty_inspect\n",
      "freeze\n",
      "object_id\n",
      "send\n",
      "to_enum\n",
      "enum_for\n",
      "!\n",
      "equal?\n",
      "__send__\n",
      "!=\n",
      "instance_eval\n",
      "instance_exec\n",
      "__id__\n"
     ]
    }
   ],
   "source": [
    "puts str_array.methods"
   ]
  },
  {
   "attachments": {},
   "cell_type": "markdown",
   "metadata": {},
   "source": [
    "`!` methods are mutating methods. It returns the same array as the result"
   ]
  },
  {
   "cell_type": "code",
   "execution_count": 28,
   "metadata": {},
   "outputs": [
    {
     "data": {
      "text/plain": [
       "[\"k\", \"l\", \"m\", \"n\", \"o\", \"p\", \"q\", \"r\", \"s\", \"t\", \"u\", \"v\", \"w\", \"x\", \"y\", \"z\", \"a\", \"b\", \"c\", \"d\", \"e\", \"f\", \"g\", \"h\", \"i\", \"j\"]"
      ]
     },
     "execution_count": 28,
     "metadata": {},
     "output_type": "execute_result"
    }
   ],
   "source": [
    "temp = str_array.rotate(10)"
   ]
  },
  {
   "cell_type": "code",
   "execution_count": 29,
   "metadata": {},
   "outputs": [
    {
     "data": {
      "text/plain": [
       "false"
      ]
     },
     "execution_count": 29,
     "metadata": {},
     "output_type": "execute_result"
    }
   ],
   "source": [
    "temp == str_array "
   ]
  },
  {
   "attachments": {},
   "cell_type": "markdown",
   "metadata": {},
   "source": [
    "`<=>` is a three-way comparision operator.\n",
    "```\n",
    "cmp > 0 if a > b\n",
    "cmp = 0 if a == b\n",
    "cmp < 0 if a < b  \n",
    "```"
   ]
  },
  {
   "cell_type": "code",
   "execution_count": 30,
   "metadata": {},
   "outputs": [
    {
     "data": {
      "text/plain": [
       "[\"z\", \"y\", \"x\", \"w\", \"v\", \"u\", \"t\", \"s\", \"r\", \"q\", \"p\", \"o\", \"n\", \"m\", \"l\", \"k\", \"j\", \"i\", \"h\", \"g\", \"f\", \"e\", \"d\", \"c\", \"b\", \"a\"]"
      ]
     },
     "execution_count": 30,
     "metadata": {},
     "output_type": "execute_result"
    }
   ],
   "source": [
    "str_array.sort { |a,b|  b <=> a } # descending order srot"
   ]
  }
 ],
 "metadata": {
  "kernelspec": {
   "display_name": "Ruby 3.2.2",
   "language": "ruby",
   "name": "ruby"
  },
  "language_info": {
   "file_extension": ".rb",
   "mimetype": "application/x-ruby",
   "name": "ruby",
   "version": "3.2.2"
  },
  "orig_nbformat": 4
 },
 "nbformat": 4,
 "nbformat_minor": 2
}
