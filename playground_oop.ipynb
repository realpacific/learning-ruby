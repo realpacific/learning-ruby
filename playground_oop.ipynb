{
 "cells": [
  {
   "attachments": {},
   "cell_type": "markdown",
   "id": "54a8fdea",
   "metadata": {},
   "source": [
    "### Classes, Getters and Setters\n",
    "\n",
    "Manually create getter and setters in a class:"
   ]
  },
  {
   "cell_type": "code",
   "execution_count": 1,
   "id": "15c556aa",
   "metadata": {},
   "outputs": [
    {
     "data": {
      "text/plain": [
       ":to_s"
      ]
     },
     "execution_count": 1,
     "metadata": {},
     "output_type": "execute_result"
    }
   ],
   "source": [
    "class Student\n",
    "  @first_name\n",
    "  @last_name\n",
    "  \n",
    "  # setter\n",
    "  def first_name=(name)\n",
    "    @first_name = name\n",
    "  end\n",
    "  \n",
    "  # getter\n",
    "  def first_name\n",
    "    @first_name\n",
    "  end\n",
    "  \n",
    "  def to_s\n",
    "    \"Student(first_name: #{@first_name}, last_name: #{@last_name})\"\n",
    "  end\n",
    "end"
   ]
  },
  {
   "cell_type": "code",
   "execution_count": 2,
   "id": "8df69a43",
   "metadata": {},
   "outputs": [
    {
     "name": "stdout",
     "output_type": "stream",
     "text": [
      "Student(first_name: , last_name: )\n",
      "Student(first_name: Prashant, last_name: )\n",
      "Prashant\n"
     ]
    }
   ],
   "source": [
    "pb = Student.new\n",
    "puts pb\n",
    "\n",
    "pb.first_name = \"Prashant\"\n",
    "puts pb\n",
    "puts pb.first_name"
   ]
  },
  {
   "attachments": {},
   "cell_type": "markdown",
   "id": "a026b8f7",
   "metadata": {},
   "source": [
    "Automatically create \"record\" classes using `attr_accessor`"
   ]
  },
  {
   "cell_type": "code",
   "execution_count": 3,
   "id": "c0326318",
   "metadata": {},
   "outputs": [
    {
     "data": {
      "text/plain": [
       ":to_s"
      ]
     },
     "execution_count": 3,
     "metadata": {},
     "output_type": "execute_result"
    }
   ],
   "source": [
    "class Student\n",
    "  # getters + setters\n",
    "  # there are \"symbols\" like in hashes\n",
    "  attr_accessor :first_name, :last_name\n",
    "  \n",
    "  # getters only\n",
    "  attr_reader :user_name\n",
    "  \n",
    "  @first_name\n",
    "  @last_name\n",
    "  @username\n",
    "  \n",
    "  # Constructor\n",
    "  def initialize(fname, lname)\n",
    "      @first_name = fname\n",
    "      @last_name = lname\n",
    "      @user_name = fname.downcase + '_' + lname.downcase\n",
    "  end\n",
    "  \n",
    "  def to_s\n",
    "    \"Student(first_name: #{@first_name}, last_name: #{@last_name})\"\n",
    "  end\n",
    "end"
   ]
  },
  {
   "cell_type": "code",
   "execution_count": 4,
   "id": "90c29430",
   "metadata": {},
   "outputs": [
    {
     "name": "stdout",
     "output_type": "stream",
     "text": [
      "Student(first_name: Prashant, last_name: B)\n",
      "prashant_b\n",
      "Student(first_name: prash, last_name: B)\n"
     ]
    }
   ],
   "source": [
    "pb = Student.new(\"Prashant\", \"B\")\n",
    "puts pb\n",
    "puts pb.user_name\n",
    "\n",
    "pb.first_name = \"prash\"\n",
    "puts pb"
   ]
  },
  {
   "attachments": {},
   "cell_type": "markdown",
   "id": "ec670149",
   "metadata": {},
   "source": [
    "### Gems"
   ]
  },
  {
   "cell_type": "code",
   "execution_count": 5,
   "id": "b29e2606",
   "metadata": {},
   "outputs": [],
   "source": [
    "# require 'bundler/inline'\n",
    "\n",
    "# gemfile true do\n",
    "#   source 'http://rubygems.org'\n",
    "#   gem 'bcrypt'\n",
    "# end"
   ]
  },
  {
   "cell_type": "code",
   "execution_count": 6,
   "id": "09083d25",
   "metadata": {},
   "outputs": [
    {
     "data": {
      "text/plain": [
       "true"
      ]
     },
     "execution_count": 6,
     "metadata": {},
     "output_type": "execute_result"
    }
   ],
   "source": [
    "require 'bcrypt'"
   ]
  },
  {
   "cell_type": "code",
   "execution_count": 7,
   "id": "b50429e1",
   "metadata": {},
   "outputs": [
    {
     "data": {
      "text/plain": [
       "\"$2a$12$5nn5nEhsUuLFp7MtC1z2TO/E3Peww1S8RS0IKrxdqP3sKEsALBXje\""
      ]
     },
     "execution_count": 7,
     "metadata": {},
     "output_type": "execute_result"
    }
   ],
   "source": [
    "my_password = BCrypt::Password.create(\"pass\")"
   ]
  },
  {
   "cell_type": "code",
   "execution_count": 8,
   "id": "cb4be9f3",
   "metadata": {},
   "outputs": [
    {
     "data": {
      "text/plain": [
       "true"
      ]
     },
     "execution_count": 8,
     "metadata": {},
     "output_type": "execute_result"
    }
   ],
   "source": [
    "my_password == \"pass\""
   ]
  },
  {
   "cell_type": "code",
   "execution_count": 9,
   "id": "6dc3b4a8",
   "metadata": {},
   "outputs": [
    {
     "name": "stdout",
     "output_type": "stream",
     "text": [
      "Inside module\n",
      "$2a$12$E9DDcLZ6coM3tkYpQJyLe./bS631tQpKzRHbFwz4qhLx.pp9WkDcG\n"
     ]
    }
   ],
   "source": [
    "require_relative 'bcrypt_utils'\n",
    "\n",
    "puts BcryptUtils.create_hash_digest(\"password\") "
   ]
  },
  {
   "cell_type": "code",
   "execution_count": 22,
   "id": "d2cd195f",
   "metadata": {},
   "outputs": [
    {
     "ename": "NoMethodError",
     "evalue": "undefined method `class_methods' for #<Class:0x0000000118faa6e0>::Validator",
     "output_type": "error",
     "traceback": [
      "\u001b[31mNoMethodError\u001b[0m: undefined method `class_methods' for #<Class:0x0000000118faa6e0>::Validator",
      "(irb):1:in `<module:Validator>'",
      "(irb):in `<top (required)>'"
     ]
    }
   ],
   "source": [
    "module Validator\n",
    "  class_methods do   \n",
    "    def self.do_something\n",
    "      p 'something'\n",
    "    end\n",
    "\n",
    "    def self.do_next\n",
    "      p 'next'\n",
    "    end\n",
    "  end\n",
    "end\n",
    "\n",
    "class Xyz\n",
    "  include Validator\n",
    "  \n",
    "  Validator.do_something\n",
    "  Validator.do_next\n",
    "end\n",
    "\n",
    "x = Xyz.new()"
   ]
  },
  {
   "cell_type": "code",
   "execution_count": 13,
   "id": "2b6fc2c2",
   "metadata": {},
   "outputs": [
    {
     "data": {
      "text/plain": [
       "[:do_next, :do_something, :<=>, :<=, :>=, :==, :===, :autoload, :autoload?, :instance_method, :included_modules, :include?, :ancestors, :attr, :attr_reader, :attr_writer, :attr_accessor, :define_method, :instance_methods, :freeze, :inspect, :protected_instance_methods, :public_instance_methods, :const_missing, :undefined_instance_methods, :private_instance_methods, :class_variables, :const_get, :class_variable_get, :const_defined?, :constants, :const_set, :const_source_location, :<, :class_variable_defined?, :remove_class_variable, :private_constant, :class_variable_set, :deprecate_constant, :>, :public_constant, :include, :singleton_class?, :prepend, :to_s, :refinements, :pretty_print, :pretty_print_cycle, :public_instance_method, :module_exec, :class_exec, :module_eval, :class_eval, :name, :remove_method, :undef_method, :alias_method, :method_defined?, :public_method_defined?, :private_method_defined?, :protected_method_defined?, :public_class_method, :private_class_method, :pretty_print_instance_variables, :pretty_print_inspect, :to_json, :hash, :singleton_class, :dup, :itself, :methods, :singleton_methods, :protected_methods, :private_methods, :public_methods, :instance_variables, :instance_variable_get, :instance_variable_set, :instance_variable_defined?, :remove_instance_variable, :instance_of?, :kind_of?, :is_a?, :display, :public_send, :extend, :class, :frozen?, :clone, :then, :tap, :yield_self, :!~, :nil?, :eql?, :respond_to?, :method, :public_method, :singleton_method, :define_singleton_method, :pretty_inspect, :object_id, :send, :to_enum, :enum_for, :!, :equal?, :__send__, :!=, :instance_eval, :instance_exec, :__id__]"
      ]
     },
     "execution_count": 13,
     "metadata": {},
     "output_type": "execute_result"
    }
   ],
   "source": [
    "Validator.methods"
   ]
  },
  {
   "cell_type": "code",
   "execution_count": 21,
   "id": "cd5e2620",
   "metadata": {},
   "outputs": [
    {
     "name": "stdout",
     "output_type": "stream",
     "text": [
      "\"next\"\n",
      "\"something\"\n"
     ]
    },
    {
     "data": {
      "text/plain": [
       "[:do_next, :do_something]"
      ]
     },
     "execution_count": 21,
     "metadata": {},
     "output_type": "execute_result"
    }
   ],
   "source": [
    "Validator.singleton_methods.each { |method|\n",
    "  Validator.send(method)\n",
    "}"
   ]
  },
  {
   "cell_type": "code",
   "execution_count": null,
   "id": "4682e53d",
   "metadata": {},
   "outputs": [],
   "source": []
  },
  {
   "cell_type": "code",
   "execution_count": null,
   "id": "0fdf1e56",
   "metadata": {},
   "outputs": [],
   "source": []
  }
 ],
 "metadata": {
  "kernelspec": {
   "display_name": "Ruby 3.2.2",
   "language": "ruby",
   "name": "ruby"
  },
  "language_info": {
   "file_extension": ".rb",
   "mimetype": "application/x-ruby",
   "name": "ruby",
   "version": "3.2.2"
  }
 },
 "nbformat": 4,
 "nbformat_minor": 5
}
