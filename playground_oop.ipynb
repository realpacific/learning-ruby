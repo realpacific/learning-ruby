{
 "cells": [
  {
   "attachments": {},
   "cell_type": "markdown",
   "id": "54a8fdea",
   "metadata": {},
   "source": [
    "### Classes, Getters and Setters\n",
    "\n",
    "Manually create getter and setters in a class:"
   ]
  },
  {
   "cell_type": "code",
   "execution_count": 2,
   "id": "15c556aa",
   "metadata": {},
   "outputs": [
    {
     "data": {
      "text/plain": [
       ":to_s"
      ]
     },
     "execution_count": 2,
     "metadata": {},
     "output_type": "execute_result"
    }
   ],
   "source": [
    "class Student\n",
    "  @first_name\n",
    "  @last_name\n",
    "  \n",
    "  # setter\n",
    "  def first_name=(name)\n",
    "    @first_name = name\n",
    "  end\n",
    "  \n",
    "  # getter\n",
    "  def first_name\n",
    "    @first_name\n",
    "  end\n",
    "  \n",
    "  def to_s\n",
    "    \"Student(first_name: #{@first_name}, last_name: #{@last_name})\"\n",
    "  end\n",
    "end"
   ]
  },
  {
   "cell_type": "code",
   "execution_count": 3,
   "id": "8df69a43",
   "metadata": {},
   "outputs": [
    {
     "name": "stdout",
     "output_type": "stream",
     "text": [
      "Student(first_name: , last_name: )\n",
      "Student(first_name: Prashant, last_name: )\n",
      "Prashant\n"
     ]
    }
   ],
   "source": [
    "pb = Student.new\n",
    "puts pb\n",
    "\n",
    "pb.first_name = \"Prashant\"\n",
    "puts pb\n",
    "puts pb.first_name"
   ]
  },
  {
   "attachments": {},
   "cell_type": "markdown",
   "id": "a026b8f7",
   "metadata": {},
   "source": [
    "Automatically create \"record\" classes using `attr_accessor`"
   ]
  },
  {
   "cell_type": "code",
   "execution_count": 4,
   "id": "c0326318",
   "metadata": {},
   "outputs": [
    {
     "data": {
      "text/plain": [
       ":to_s"
      ]
     },
     "execution_count": 4,
     "metadata": {},
     "output_type": "execute_result"
    }
   ],
   "source": [
    "class Student\n",
    "  # getters + setters\n",
    "  # there are \"symbols\" like in hashes\n",
    "  attr_accessor :first_name, :last_name\n",
    "  \n",
    "  # getters only\n",
    "  attr_reader :user_name\n",
    "  \n",
    "  @first_name\n",
    "  @last_name\n",
    "  @username\n",
    "  \n",
    "  # Constructor\n",
    "  def initialize(fname, lname)\n",
    "      @first_name = fname\n",
    "      @last_name = lname\n",
    "      @user_name = fname.downcase + '_' + lname.downcase\n",
    "  end\n",
    "  \n",
    "  def to_s\n",
    "    \"Student(first_name: #{@first_name}, last_name: #{@last_name})\"\n",
    "  end\n",
    "end"
   ]
  },
  {
   "cell_type": "code",
   "execution_count": 5,
   "id": "90c29430",
   "metadata": {},
   "outputs": [
    {
     "name": "stdout",
     "output_type": "stream",
     "text": [
      "Student(first_name: Prashant, last_name: B)\n",
      "prashant_b\n",
      "Student(first_name: prash, last_name: B)\n"
     ]
    }
   ],
   "source": [
    "pb = Student.new(\"Prashant\", \"B\")\n",
    "puts pb\n",
    "puts pb.user_name\n",
    "\n",
    "pb.first_name = \"prash\"\n",
    "puts pb"
   ]
  },
  {
   "attachments": {},
   "cell_type": "markdown",
   "id": "ec670149",
   "metadata": {},
   "source": [
    "### Gems"
   ]
  },
  {
   "cell_type": "code",
   "execution_count": 6,
   "id": "b29e2606",
   "metadata": {},
   "outputs": [],
   "source": [
    "# require 'bundler/inline'\n",
    "\n",
    "# gemfile true do\n",
    "#   source 'http://rubygems.org'\n",
    "#   gem 'bcrypt'\n",
    "# end"
   ]
  },
  {
   "cell_type": "code",
   "execution_count": 7,
   "id": "09083d25",
   "metadata": {},
   "outputs": [
    {
     "data": {
      "text/plain": [
       "true"
      ]
     },
     "execution_count": 7,
     "metadata": {},
     "output_type": "execute_result"
    }
   ],
   "source": [
    "require 'bcrypt'"
   ]
  },
  {
   "cell_type": "code",
   "execution_count": 8,
   "id": "b50429e1",
   "metadata": {},
   "outputs": [
    {
     "data": {
      "text/plain": [
       "\"$2a$12$3fGInXAINrfXvUxc6El0iOPt8mR4UrO2QEoX6XP2SwNdHApXzT9qO\""
      ]
     },
     "execution_count": 8,
     "metadata": {},
     "output_type": "execute_result"
    }
   ],
   "source": [
    "my_password = BCrypt::Password.create(\"pass\")"
   ]
  },
  {
   "cell_type": "code",
   "execution_count": 9,
   "id": "cb4be9f3",
   "metadata": {},
   "outputs": [
    {
     "data": {
      "text/plain": [
       "true"
      ]
     },
     "execution_count": 9,
     "metadata": {},
     "output_type": "execute_result"
    }
   ],
   "source": [
    "my_password == \"pass\""
   ]
  },
  {
   "cell_type": "code",
   "execution_count": 4,
   "id": "6dc3b4a8",
   "metadata": {},
   "outputs": [
    {
     "name": "stdout",
     "output_type": "stream",
     "text": [
      "$2a$12$wfz4TqqVmIj3fXc9.gW4OuoFtpYVru9.ysifyHAcLHDGY49b0Pp3S\n"
     ]
    }
   ],
   "source": [
    "require_relative 'bcrypt_utils'\n",
    "\n",
    "puts BcryptUtils.create_hash_digest(\"password\") "
   ]
  },
  {
   "cell_type": "code",
   "execution_count": null,
   "id": "d9a8e911",
   "metadata": {},
   "outputs": [],
   "source": []
  },
  {
   "cell_type": "code",
   "execution_count": null,
   "id": "0571bb42",
   "metadata": {},
   "outputs": [],
   "source": []
  },
  {
   "cell_type": "code",
   "execution_count": null,
   "id": "c274b284",
   "metadata": {},
   "outputs": [],
   "source": []
  },
  {
   "cell_type": "code",
   "execution_count": null,
   "id": "737278e8",
   "metadata": {},
   "outputs": [],
   "source": []
  },
  {
   "cell_type": "code",
   "execution_count": null,
   "id": "f0819238",
   "metadata": {},
   "outputs": [],
   "source": []
  },
  {
   "cell_type": "code",
   "execution_count": null,
   "id": "ecacbc0f",
   "metadata": {},
   "outputs": [],
   "source": []
  }
 ],
 "metadata": {
  "kernelspec": {
   "display_name": "Ruby 3.2.2",
   "language": "ruby",
   "name": "ruby"
  },
  "language_info": {
   "file_extension": ".rb",
   "mimetype": "application/x-ruby",
   "name": "ruby",
   "version": "3.2.2"
  }
 },
 "nbformat": 4,
 "nbformat_minor": 5
}
