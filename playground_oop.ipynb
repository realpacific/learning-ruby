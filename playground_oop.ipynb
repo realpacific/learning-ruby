{
 "cells": [
  {
   "attachments": {},
   "cell_type": "markdown",
   "id": "54a8fdea",
   "metadata": {},
   "source": [
    "### Classes, Getters and Setters\n",
    "\n",
    "Manually create getter and setters in a class:"
   ]
  },
  {
   "cell_type": "code",
   "execution_count": 1,
   "id": "15c556aa",
   "metadata": {},
   "outputs": [
    {
     "data": {
      "text/plain": [
       ":to_s"
      ]
     },
     "execution_count": 1,
     "metadata": {},
     "output_type": "execute_result"
    }
   ],
   "source": [
    "class Student\n",
    "  @first_name\n",
    "  @last_name\n",
    "  \n",
    "  # setter\n",
    "  def first_name=(name)\n",
    "    @first_name = name\n",
    "  end\n",
    "  \n",
    "  # getter\n",
    "  def first_name\n",
    "    @first_name\n",
    "  end\n",
    "  \n",
    "  def to_s\n",
    "    \"Student(first_name: #{@first_name}, last_name: #{@last_name})\"\n",
    "  end\n",
    "end"
   ]
  },
  {
   "cell_type": "code",
   "execution_count": 2,
   "id": "8df69a43",
   "metadata": {},
   "outputs": [
    {
     "name": "stdout",
     "output_type": "stream",
     "text": [
      "Student(first_name: , last_name: )\n",
      "Student(first_name: Prashant, last_name: )\n",
      "Prashant\n"
     ]
    }
   ],
   "source": [
    "pb = Student.new\n",
    "puts pb\n",
    "\n",
    "pb.first_name = \"Prashant\"\n",
    "puts pb\n",
    "puts pb.first_name"
   ]
  },
  {
   "attachments": {},
   "cell_type": "markdown",
   "id": "a026b8f7",
   "metadata": {},
   "source": [
    "Automatically create \"record\" classes using `attr_accessor`"
   ]
  },
  {
   "cell_type": "code",
   "execution_count": 3,
   "id": "c0326318",
   "metadata": {},
   "outputs": [
    {
     "data": {
      "text/plain": [
       ":to_s"
      ]
     },
     "execution_count": 3,
     "metadata": {},
     "output_type": "execute_result"
    }
   ],
   "source": [
    "class Student\n",
    "  # getters + setters\n",
    "  # there are \"symbols\" like in hashes\n",
    "  attr_accessor :first_name, :last_name\n",
    "  \n",
    "  # getters only\n",
    "  attr_reader :user_name\n",
    "  \n",
    "  @first_name\n",
    "  @last_name\n",
    "  @username\n",
    "  \n",
    "  # Constructor\n",
    "  def initialize(fname, lname)\n",
    "      @first_name = fname\n",
    "      @last_name = lname\n",
    "      @user_name = fname.downcase + '_' + lname.downcase\n",
    "  end\n",
    "  \n",
    "  def to_s\n",
    "    \"Student(first_name: #{@first_name}, last_name: #{@last_name})\"\n",
    "  end\n",
    "end"
   ]
  },
  {
   "cell_type": "code",
   "execution_count": 4,
   "id": "90c29430",
   "metadata": {},
   "outputs": [
    {
     "name": "stdout",
     "output_type": "stream",
     "text": [
      "Student(first_name: Prashant, last_name: B)\n",
      "prashant_b\n",
      "Student(first_name: prash, last_name: B)\n"
     ]
    }
   ],
   "source": [
    "pb = Student.new(\"Prashant\", \"B\")\n",
    "puts pb\n",
    "puts pb.user_name\n",
    "\n",
    "pb.first_name = \"prash\"\n",
    "puts pb"
   ]
  },
  {
   "attachments": {},
   "cell_type": "markdown",
   "id": "ec670149",
   "metadata": {},
   "source": [
    "### Gems"
   ]
  },
  {
   "cell_type": "code",
   "execution_count": 5,
   "id": "b29e2606",
   "metadata": {},
   "outputs": [],
   "source": [
    "# require 'bundler/inline'\n",
    "\n",
    "# gemfile true do\n",
    "#   source 'http://rubygems.org'\n",
    "#   gem 'bcrypt'\n",
    "# end"
   ]
  },
  {
   "cell_type": "code",
   "execution_count": 6,
   "id": "09083d25",
   "metadata": {},
   "outputs": [
    {
     "data": {
      "text/plain": [
       "true"
      ]
     },
     "execution_count": 6,
     "metadata": {},
     "output_type": "execute_result"
    }
   ],
   "source": [
    "require 'bcrypt'"
   ]
  },
  {
   "cell_type": "code",
   "execution_count": 7,
   "id": "b50429e1",
   "metadata": {},
   "outputs": [
    {
     "data": {
      "text/plain": [
       "\"$2a$12$5nn5nEhsUuLFp7MtC1z2TO/E3Peww1S8RS0IKrxdqP3sKEsALBXje\""
      ]
     },
     "execution_count": 7,
     "metadata": {},
     "output_type": "execute_result"
    }
   ],
   "source": [
    "my_password = BCrypt::Password.create(\"pass\")"
   ]
  },
  {
   "cell_type": "code",
   "execution_count": 8,
   "id": "cb4be9f3",
   "metadata": {},
   "outputs": [
    {
     "data": {
      "text/plain": [
       "true"
      ]
     },
     "execution_count": 8,
     "metadata": {},
     "output_type": "execute_result"
    }
   ],
   "source": [
    "my_password == \"pass\""
   ]
  },
  {
   "cell_type": "code",
   "execution_count": 9,
   "id": "6dc3b4a8",
   "metadata": {},
   "outputs": [
    {
     "name": "stdout",
     "output_type": "stream",
     "text": [
      "Inside module\n",
      "$2a$12$E9DDcLZ6coM3tkYpQJyLe./bS631tQpKzRHbFwz4qhLx.pp9WkDcG\n"
     ]
    }
   ],
   "source": [
    "require_relative 'bcrypt_utils'\n",
    "\n",
    "puts BcryptUtils.create_hash_digest(\"password\") "
   ]
  }
 ],
 "metadata": {
  "kernelspec": {
   "display_name": "Ruby 3.2.2",
   "language": "ruby",
   "name": "ruby"
  },
  "language_info": {
   "file_extension": ".rb",
   "mimetype": "application/x-ruby",
   "name": "ruby",
   "version": "3.2.2"
  }
 },
 "nbformat": 4,
 "nbformat_minor": 5
}
